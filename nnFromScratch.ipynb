{
 "cells": [
  {
   "cell_type": "markdown",
   "source": [
    "# Following the tutorial: Nothing but NumPy: [Understanding & Creating Neural Networks with Computational Graphs from Scratch (Rafay Khan)](https://pub.towardsai.net/nothing-but-numpy-understanding-creating-neural-networks-with-computational-graphs-from-scratch-6299901091b0)"
   ],
   "metadata": {}
  },
  {
   "cell_type": "markdown",
   "source": [],
   "metadata": {}
  }
 ],
 "metadata": {
  "orig_nbformat": 4,
  "language_info": {
   "name": "python"
  }
 },
 "nbformat": 4,
 "nbformat_minor": 2
}