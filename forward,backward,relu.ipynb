{
 "cells": [
  {
   "cell_type": "markdown",
   "source": [
    "# Experimentations with fundamental concepts of deep learning"
   ],
   "metadata": {}
  },
  {
   "cell_type": "markdown",
   "source": [
    "## Forward and Backward pass"
   ],
   "metadata": {}
  },
  {
   "cell_type": "code",
   "execution_count": 2,
   "source": [
    "import torch\n",
    "from icecream import ic"
   ],
   "outputs": [],
   "metadata": {}
  },
  {
   "cell_type": "markdown",
   "source": [
    "Input and ground truth output"
   ],
   "metadata": {}
  },
  {
   "cell_type": "code",
   "execution_count": 3,
   "source": [
    "x = torch.randn((2, 1), requires_grad=True)\n",
    "y = torch.randn((2,1))\n",
    "ic(x, y)"
   ],
   "outputs": [
    {
     "output_type": "stream",
     "name": "stderr",
     "text": [
      "ic| x: tensor([[-1.2413],\n",
      "               [ 0.4187]], requires_grad=True)\n",
      "    y: tensor([[0.1538],\n",
      "               [1.3876]])\n"
     ]
    },
    {
     "output_type": "execute_result",
     "data": {
      "text/plain": [
       "(tensor([[-1.2413],\n",
       "         [ 0.4187]], requires_grad=True),\n",
       " tensor([[0.1538],\n",
       "         [1.3876]]))"
      ]
     },
     "metadata": {},
     "execution_count": 3
    }
   ],
   "metadata": {}
  },
  {
   "cell_type": "markdown",
   "source": [
    "### The forward pass"
   ],
   "metadata": {}
  },
  {
   "cell_type": "markdown",
   "source": [
    "First linear layer"
   ],
   "metadata": {}
  },
  {
   "cell_type": "code",
   "execution_count": 4,
   "source": [
    "W1 = torch.randn((2, 2), requires_grad=True)\n",
    "b1 = torch.randn((2, 1), requires_grad=True)\n",
    "z1 = torch.matmul(W1, x) + b1\n",
    "ic(W1, b1, z1)"
   ],
   "outputs": [
    {
     "output_type": "stream",
     "name": "stderr",
     "text": [
      "ic| W1: tensor([[-0.8255,  1.1034],\n",
      "                [-0.4116,  0.6273]], requires_grad=True)\n",
      "    b1: tensor([[-0.3685],\n",
      "                [-0.7077]], requires_grad=True)\n",
      "    z1: tensor([[1.1181],\n",
      "                [0.0658]], grad_fn=<AddBackward0>)\n"
     ]
    },
    {
     "output_type": "execute_result",
     "data": {
      "text/plain": [
       "(tensor([[-0.8255,  1.1034],\n",
       "         [-0.4116,  0.6273]], requires_grad=True),\n",
       " tensor([[-0.3685],\n",
       "         [-0.7077]], requires_grad=True),\n",
       " tensor([[1.1181],\n",
       "         [0.0658]], grad_fn=<AddBackward0>))"
      ]
     },
     "metadata": {},
     "execution_count": 4
    }
   ],
   "metadata": {}
  },
  {
   "cell_type": "markdown",
   "source": [
    "Retain the grads of the loss with respect to these variables to print out later"
   ],
   "metadata": {}
  },
  {
   "cell_type": "code",
   "execution_count": 5,
   "source": [
    "W1.retain_grad()\n",
    "b1.retain_grad()\n",
    "z1.retain_grad()"
   ],
   "outputs": [],
   "metadata": {}
  },
  {
   "cell_type": "markdown",
   "source": [
    "Non-linear activation"
   ],
   "metadata": {}
  },
  {
   "cell_type": "code",
   "execution_count": 6,
   "source": [
    "z2 = torch.nn.functional.relu(z1)\n",
    "ic(z2)"
   ],
   "outputs": [
    {
     "output_type": "stream",
     "name": "stderr",
     "text": [
      "ic| z2: tensor([[1.1181],\n",
      "                [0.0658]], grad_fn=<ReluBackward0>)\n"
     ]
    },
    {
     "output_type": "execute_result",
     "data": {
      "text/plain": [
       "tensor([[1.1181],\n",
       "        [0.0658]], grad_fn=<ReluBackward0>)"
      ]
     },
     "metadata": {},
     "execution_count": 6
    }
   ],
   "metadata": {}
  },
  {
   "cell_type": "markdown",
   "source": [
    "Linear layer 2"
   ],
   "metadata": {}
  },
  {
   "cell_type": "code",
   "execution_count": 7,
   "source": [
    "W2 = torch.randn((2, 2), requires_grad=True)\n",
    "b2 = torch.randn((2, 1), requires_grad=True)\n",
    "z3 = torch.matmul(W2, z2) + b2\n",
    "ic(W2, b2, z3)"
   ],
   "outputs": [
    {
     "output_type": "stream",
     "name": "stderr",
     "text": [
      "ic| W2: tensor([[0.1843, 0.8053],\n",
      "                [0.3552, 0.4394]], requires_grad=True)\n",
      "    b2: tensor([[-0.3688],\n",
      "                [-1.1466]], requires_grad=True)\n",
      "    z3: tensor([[-0.1097],\n",
      "                [-0.7205]], grad_fn=<AddBackward0>)\n"
     ]
    },
    {
     "output_type": "execute_result",
     "data": {
      "text/plain": [
       "(tensor([[0.1843, 0.8053],\n",
       "         [0.3552, 0.4394]], requires_grad=True),\n",
       " tensor([[-0.3688],\n",
       "         [-1.1466]], requires_grad=True),\n",
       " tensor([[-0.1097],\n",
       "         [-0.7205]], grad_fn=<AddBackward0>))"
      ]
     },
     "metadata": {},
     "execution_count": 7
    }
   ],
   "metadata": {}
  },
  {
   "cell_type": "code",
   "execution_count": 8,
   "source": [
    "W2.retain_grad()\n",
    "b2.retain_grad()\n",
    "z3.retain_grad()"
   ],
   "outputs": [],
   "metadata": {}
  },
  {
   "cell_type": "markdown",
   "source": [
    "Calculate the loss function (MSE loss)"
   ],
   "metadata": {}
  },
  {
   "cell_type": "code",
   "execution_count": 36,
   "source": [
    "loss = torch.mean(torch.square(y-z3))\n",
    "ic(loss)"
   ],
   "outputs": [
    {
     "output_type": "stream",
     "name": "stderr",
     "text": [
      "ic| loss: tensor(2.2567, grad_fn=<MeanBackward0>)\n"
     ]
    },
    {
     "output_type": "execute_result",
     "data": {
      "text/plain": [
       "tensor(2.2567, grad_fn=<MeanBackward0>)"
      ]
     },
     "metadata": {},
     "execution_count": 36
    }
   ],
   "metadata": {}
  },
  {
   "cell_type": "markdown",
   "source": [
    "Verify with `torch`'s `mse_loss`"
   ],
   "metadata": {}
  },
  {
   "cell_type": "code",
   "execution_count": 33,
   "source": [
    "torch.nn.functional.mse_loss(z3, y, reduction='mean')  # check if our loss is correct"
   ],
   "outputs": [
    {
     "output_type": "execute_result",
     "data": {
      "text/plain": [
       "tensor(2.2567, grad_fn=<MseLossBackward>)"
      ]
     },
     "metadata": {},
     "execution_count": 33
    }
   ],
   "metadata": {}
  },
  {
   "cell_type": "code",
   "execution_count": 37,
   "source": [
    "from torchviz import make_dot\n",
    "make_dot(loss)"
   ],
   "outputs": [
    {
     "output_type": "execute_result",
     "data": {
      "image/svg+xml": "<?xml version=\"1.0\" encoding=\"UTF-8\" standalone=\"no\"?>\n<!DOCTYPE svg PUBLIC \"-//W3C//DTD SVG 1.1//EN\"\n \"http://www.w3.org/Graphics/SVG/1.1/DTD/svg11.dtd\">\n<!-- Generated by graphviz version 2.43.0 (0)\n -->\n<!-- Title: %3 Pages: 1 -->\n<svg width=\"378pt\" height=\"637pt\"\n viewBox=\"0.00 0.00 378.00 637.00\" xmlns=\"http://www.w3.org/2000/svg\" xmlns:xlink=\"http://www.w3.org/1999/xlink\">\n<g id=\"graph0\" class=\"graph\" transform=\"scale(1 1) rotate(0) translate(4 633)\">\n<title>%3</title>\n<polygon fill=\"white\" stroke=\"transparent\" points=\"-4,4 -4,-633 374,-633 374,4 -4,4\"/>\n<!-- 140714979883712 -->\n<g id=\"node1\" class=\"node\">\n<title>140714979883712</title>\n<polygon fill=\"#caff70\" stroke=\"black\" points=\"292.5,-31 238.5,-31 238.5,0 292.5,0 292.5,-31\"/>\n<text text-anchor=\"middle\" x=\"265.5\" y=\"-7\" font-family=\"monospace\" font-size=\"10.00\"> ()</text>\n</g>\n<!-- 140714979895232 -->\n<g id=\"node2\" class=\"node\">\n<title>140714979895232</title>\n<polygon fill=\"lightgrey\" stroke=\"black\" points=\"313,-86 218,-86 218,-67 313,-67 313,-86\"/>\n<text text-anchor=\"middle\" x=\"265.5\" y=\"-74\" font-family=\"monospace\" font-size=\"10.00\">MeanBackward0</text>\n</g>\n<!-- 140714979895232&#45;&gt;140714979883712 -->\n<g id=\"edge18\" class=\"edge\">\n<title>140714979895232&#45;&gt;140714979883712</title>\n<path fill=\"none\" stroke=\"black\" d=\"M265.5,-66.79C265.5,-60.07 265.5,-50.4 265.5,-41.34\"/>\n<polygon fill=\"black\" stroke=\"black\" points=\"269,-41.19 265.5,-31.19 262,-41.19 269,-41.19\"/>\n</g>\n<!-- 140714979895280 -->\n<g id=\"node3\" class=\"node\">\n<title>140714979895280</title>\n<polygon fill=\"lightgrey\" stroke=\"black\" points=\"310,-141 221,-141 221,-122 310,-122 310,-141\"/>\n<text text-anchor=\"middle\" x=\"265.5\" y=\"-129\" font-family=\"monospace\" font-size=\"10.00\">PowBackward0</text>\n</g>\n<!-- 140714979895280&#45;&gt;140714979895232 -->\n<g id=\"edge1\" class=\"edge\">\n<title>140714979895280&#45;&gt;140714979895232</title>\n<path fill=\"none\" stroke=\"black\" d=\"M265.5,-121.75C265.5,-114.8 265.5,-104.85 265.5,-96.13\"/>\n<polygon fill=\"black\" stroke=\"black\" points=\"269,-96.09 265.5,-86.09 262,-96.09 269,-96.09\"/>\n</g>\n<!-- 140714979894176 -->\n<g id=\"node4\" class=\"node\">\n<title>140714979894176</title>\n<polygon fill=\"lightgrey\" stroke=\"black\" points=\"310,-196 221,-196 221,-177 310,-177 310,-196\"/>\n<text text-anchor=\"middle\" x=\"265.5\" y=\"-184\" font-family=\"monospace\" font-size=\"10.00\">SubBackward0</text>\n</g>\n<!-- 140714979894176&#45;&gt;140714979895280 -->\n<g id=\"edge2\" class=\"edge\">\n<title>140714979894176&#45;&gt;140714979895280</title>\n<path fill=\"none\" stroke=\"black\" d=\"M265.5,-176.75C265.5,-169.8 265.5,-159.85 265.5,-151.13\"/>\n<polygon fill=\"black\" stroke=\"black\" points=\"269,-151.09 265.5,-141.09 262,-151.09 269,-151.09\"/>\n</g>\n<!-- 140714979895376 -->\n<g id=\"node5\" class=\"node\">\n<title>140714979895376</title>\n<polygon fill=\"lightgrey\" stroke=\"black\" points=\"310,-251 221,-251 221,-232 310,-232 310,-251\"/>\n<text text-anchor=\"middle\" x=\"265.5\" y=\"-239\" font-family=\"monospace\" font-size=\"10.00\">AddBackward0</text>\n</g>\n<!-- 140714979895376&#45;&gt;140714979894176 -->\n<g id=\"edge3\" class=\"edge\">\n<title>140714979895376&#45;&gt;140714979894176</title>\n<path fill=\"none\" stroke=\"black\" d=\"M265.5,-231.75C265.5,-224.8 265.5,-214.85 265.5,-206.13\"/>\n<polygon fill=\"black\" stroke=\"black\" points=\"269,-206.09 265.5,-196.09 262,-206.09 269,-206.09\"/>\n</g>\n<!-- 140714979895088 -->\n<g id=\"node6\" class=\"node\">\n<title>140714979895088</title>\n<polygon fill=\"lightgrey\" stroke=\"black\" points=\"251,-306 174,-306 174,-287 251,-287 251,-306\"/>\n<text text-anchor=\"middle\" x=\"212.5\" y=\"-294\" font-family=\"monospace\" font-size=\"10.00\">MmBackward</text>\n</g>\n<!-- 140714979895088&#45;&gt;140714979895376 -->\n<g id=\"edge4\" class=\"edge\">\n<title>140714979895088&#45;&gt;140714979895376</title>\n<path fill=\"none\" stroke=\"black\" d=\"M221.25,-286.75C228.97,-279.03 240.4,-267.6 249.72,-258.28\"/>\n<polygon fill=\"black\" stroke=\"black\" points=\"252.31,-260.64 256.91,-251.09 247.36,-255.69 252.31,-260.64\"/>\n</g>\n<!-- 140714979894608 -->\n<g id=\"node7\" class=\"node\">\n<title>140714979894608</title>\n<polygon fill=\"lightgrey\" stroke=\"black\" points=\"153,-367 52,-367 52,-348 153,-348 153,-367\"/>\n<text text-anchor=\"middle\" x=\"102.5\" y=\"-355\" font-family=\"monospace\" font-size=\"10.00\">AccumulateGrad</text>\n</g>\n<!-- 140714979894608&#45;&gt;140714979895088 -->\n<g id=\"edge5\" class=\"edge\">\n<title>140714979894608&#45;&gt;140714979895088</title>\n<path fill=\"none\" stroke=\"black\" d=\"M118.73,-347.79C136.87,-338.07 166.46,-322.2 187.54,-310.89\"/>\n<polygon fill=\"black\" stroke=\"black\" points=\"189.4,-313.86 196.56,-306.05 186.09,-307.69 189.4,-313.86\"/>\n</g>\n<!-- 140714992344768 -->\n<g id=\"node8\" class=\"node\">\n<title>140714992344768</title>\n<polygon fill=\"lightblue\" stroke=\"black\" points=\"132,-440 73,-440 73,-409 132,-409 132,-440\"/>\n<text text-anchor=\"middle\" x=\"102.5\" y=\"-416\" font-family=\"monospace\" font-size=\"10.00\"> (2, 2)</text>\n</g>\n<!-- 140714992344768&#45;&gt;140714979894608 -->\n<g id=\"edge6\" class=\"edge\">\n<title>140714992344768&#45;&gt;140714979894608</title>\n<path fill=\"none\" stroke=\"black\" d=\"M102.5,-408.75C102.5,-399.39 102.5,-387.19 102.5,-377.16\"/>\n<polygon fill=\"black\" stroke=\"black\" points=\"106,-377.02 102.5,-367.02 99,-377.02 106,-377.02\"/>\n</g>\n<!-- 140714979894656 -->\n<g id=\"node9\" class=\"node\">\n<title>140714979894656</title>\n<polygon fill=\"lightgrey\" stroke=\"black\" points=\"266,-367 171,-367 171,-348 266,-348 266,-367\"/>\n<text text-anchor=\"middle\" x=\"218.5\" y=\"-355\" font-family=\"monospace\" font-size=\"10.00\">ReluBackward0</text>\n</g>\n<!-- 140714979894656&#45;&gt;140714979895088 -->\n<g id=\"edge7\" class=\"edge\">\n<title>140714979894656&#45;&gt;140714979895088</title>\n<path fill=\"none\" stroke=\"black\" d=\"M217.61,-347.79C216.77,-339.52 215.48,-326.79 214.4,-316.21\"/>\n<polygon fill=\"black\" stroke=\"black\" points=\"217.88,-315.84 213.39,-306.24 210.92,-316.54 217.88,-315.84\"/>\n</g>\n<!-- 140714979894560 -->\n<g id=\"node10\" class=\"node\">\n<title>140714979894560</title>\n<polygon fill=\"lightgrey\" stroke=\"black\" points=\"263,-434 174,-434 174,-415 263,-415 263,-434\"/>\n<text text-anchor=\"middle\" x=\"218.5\" y=\"-422\" font-family=\"monospace\" font-size=\"10.00\">AddBackward0</text>\n</g>\n<!-- 140714979894560&#45;&gt;140714979894656 -->\n<g id=\"edge8\" class=\"edge\">\n<title>140714979894560&#45;&gt;140714979894656</title>\n<path fill=\"none\" stroke=\"black\" d=\"M218.5,-414.73C218.5,-405.18 218.5,-389.62 218.5,-377.28\"/>\n<polygon fill=\"black\" stroke=\"black\" points=\"222,-377.13 218.5,-367.13 215,-377.13 222,-377.13\"/>\n</g>\n<!-- 140714979894800 -->\n<g id=\"node11\" class=\"node\">\n<title>140714979894800</title>\n<polygon fill=\"lightgrey\" stroke=\"black\" points=\"203,-495 126,-495 126,-476 203,-476 203,-495\"/>\n<text text-anchor=\"middle\" x=\"164.5\" y=\"-483\" font-family=\"monospace\" font-size=\"10.00\">MmBackward</text>\n</g>\n<!-- 140714979894800&#45;&gt;140714979894560 -->\n<g id=\"edge9\" class=\"edge\">\n<title>140714979894800&#45;&gt;140714979894560</title>\n<path fill=\"none\" stroke=\"black\" d=\"M172.47,-475.79C180.6,-466.91 193.43,-452.89 203.48,-441.91\"/>\n<polygon fill=\"black\" stroke=\"black\" points=\"206.33,-443.98 210.5,-434.24 201.17,-439.26 206.33,-443.98\"/>\n</g>\n<!-- 140714979894368 -->\n<g id=\"node12\" class=\"node\">\n<title>140714979894368</title>\n<polygon fill=\"lightgrey\" stroke=\"black\" points=\"101,-556 0,-556 0,-537 101,-537 101,-556\"/>\n<text text-anchor=\"middle\" x=\"50.5\" y=\"-544\" font-family=\"monospace\" font-size=\"10.00\">AccumulateGrad</text>\n</g>\n<!-- 140714979894368&#45;&gt;140714979894800 -->\n<g id=\"edge10\" class=\"edge\">\n<title>140714979894368&#45;&gt;140714979894800</title>\n<path fill=\"none\" stroke=\"black\" d=\"M67.32,-536.79C86.2,-527.02 117.06,-511.05 138.93,-499.73\"/>\n<polygon fill=\"black\" stroke=\"black\" points=\"140.71,-502.75 147.98,-495.05 137.49,-496.54 140.71,-502.75\"/>\n</g>\n<!-- 140714992419136 -->\n<g id=\"node13\" class=\"node\">\n<title>140714992419136</title>\n<polygon fill=\"lightblue\" stroke=\"black\" points=\"80,-629 21,-629 21,-598 80,-598 80,-629\"/>\n<text text-anchor=\"middle\" x=\"50.5\" y=\"-605\" font-family=\"monospace\" font-size=\"10.00\"> (2, 2)</text>\n</g>\n<!-- 140714992419136&#45;&gt;140714979894368 -->\n<g id=\"edge11\" class=\"edge\">\n<title>140714992419136&#45;&gt;140714979894368</title>\n<path fill=\"none\" stroke=\"black\" d=\"M50.5,-597.75C50.5,-588.39 50.5,-576.19 50.5,-566.16\"/>\n<polygon fill=\"black\" stroke=\"black\" points=\"54,-566.02 50.5,-556.02 47,-566.02 54,-566.02\"/>\n</g>\n<!-- 140714979894416 -->\n<g id=\"node14\" class=\"node\">\n<title>140714979894416</title>\n<polygon fill=\"lightgrey\" stroke=\"black\" points=\"220,-556 119,-556 119,-537 220,-537 220,-556\"/>\n<text text-anchor=\"middle\" x=\"169.5\" y=\"-544\" font-family=\"monospace\" font-size=\"10.00\">AccumulateGrad</text>\n</g>\n<!-- 140714979894416&#45;&gt;140714979894800 -->\n<g id=\"edge12\" class=\"edge\">\n<title>140714979894416&#45;&gt;140714979894800</title>\n<path fill=\"none\" stroke=\"black\" d=\"M168.76,-536.79C168.06,-528.52 166.98,-515.79 166.09,-505.21\"/>\n<polygon fill=\"black\" stroke=\"black\" points=\"169.57,-504.91 165.24,-495.24 162.6,-505.5 169.57,-504.91\"/>\n</g>\n<!-- 140717491277248 -->\n<g id=\"node15\" class=\"node\">\n<title>140717491277248</title>\n<polygon fill=\"lightblue\" stroke=\"black\" points=\"199,-629 140,-629 140,-598 199,-598 199,-629\"/>\n<text text-anchor=\"middle\" x=\"169.5\" y=\"-605\" font-family=\"monospace\" font-size=\"10.00\"> (2, 1)</text>\n</g>\n<!-- 140717491277248&#45;&gt;140714979894416 -->\n<g id=\"edge13\" class=\"edge\">\n<title>140717491277248&#45;&gt;140714979894416</title>\n<path fill=\"none\" stroke=\"black\" d=\"M169.5,-597.75C169.5,-588.39 169.5,-576.19 169.5,-566.16\"/>\n<polygon fill=\"black\" stroke=\"black\" points=\"173,-566.02 169.5,-556.02 166,-566.02 173,-566.02\"/>\n</g>\n<!-- 140714979894704 -->\n<g id=\"node16\" class=\"node\">\n<title>140714979894704</title>\n<polygon fill=\"lightgrey\" stroke=\"black\" points=\"322,-495 221,-495 221,-476 322,-476 322,-495\"/>\n<text text-anchor=\"middle\" x=\"271.5\" y=\"-483\" font-family=\"monospace\" font-size=\"10.00\">AccumulateGrad</text>\n</g>\n<!-- 140714979894704&#45;&gt;140714979894560 -->\n<g id=\"edge14\" class=\"edge\">\n<title>140714979894704&#45;&gt;140714979894560</title>\n<path fill=\"none\" stroke=\"black\" d=\"M263.68,-475.79C255.69,-466.91 243.11,-452.89 233.24,-441.91\"/>\n<polygon fill=\"black\" stroke=\"black\" points=\"235.64,-439.34 226.35,-434.24 230.43,-444.02 235.64,-439.34\"/>\n</g>\n<!-- 140714992422400 -->\n<g id=\"node17\" class=\"node\">\n<title>140714992422400</title>\n<polygon fill=\"lightblue\" stroke=\"black\" points=\"301,-562 242,-562 242,-531 301,-531 301,-562\"/>\n<text text-anchor=\"middle\" x=\"271.5\" y=\"-538\" font-family=\"monospace\" font-size=\"10.00\"> (2, 1)</text>\n</g>\n<!-- 140714992422400&#45;&gt;140714979894704 -->\n<g id=\"edge15\" class=\"edge\">\n<title>140714992422400&#45;&gt;140714979894704</title>\n<path fill=\"none\" stroke=\"black\" d=\"M271.5,-530.92C271.5,-523.22 271.5,-513.69 271.5,-505.43\"/>\n<polygon fill=\"black\" stroke=\"black\" points=\"275,-505.25 271.5,-495.25 268,-505.25 275,-505.25\"/>\n</g>\n<!-- 140714979894992 -->\n<g id=\"node18\" class=\"node\">\n<title>140714979894992</title>\n<polygon fill=\"lightgrey\" stroke=\"black\" points=\"370,-306 269,-306 269,-287 370,-287 370,-306\"/>\n<text text-anchor=\"middle\" x=\"319.5\" y=\"-294\" font-family=\"monospace\" font-size=\"10.00\">AccumulateGrad</text>\n</g>\n<!-- 140714979894992&#45;&gt;140714979895376 -->\n<g id=\"edge16\" class=\"edge\">\n<title>140714979894992&#45;&gt;140714979895376</title>\n<path fill=\"none\" stroke=\"black\" d=\"M310.58,-286.75C302.72,-279.03 291.07,-267.6 281.58,-258.28\"/>\n<polygon fill=\"black\" stroke=\"black\" points=\"283.84,-255.6 274.25,-251.09 278.94,-260.59 283.84,-255.6\"/>\n</g>\n<!-- 140714992430528 -->\n<g id=\"node19\" class=\"node\">\n<title>140714992430528</title>\n<polygon fill=\"lightblue\" stroke=\"black\" points=\"349,-373 290,-373 290,-342 349,-342 349,-373\"/>\n<text text-anchor=\"middle\" x=\"319.5\" y=\"-349\" font-family=\"monospace\" font-size=\"10.00\"> (2, 1)</text>\n</g>\n<!-- 140714992430528&#45;&gt;140714979894992 -->\n<g id=\"edge17\" class=\"edge\">\n<title>140714992430528&#45;&gt;140714979894992</title>\n<path fill=\"none\" stroke=\"black\" d=\"M319.5,-341.92C319.5,-334.22 319.5,-324.69 319.5,-316.43\"/>\n<polygon fill=\"black\" stroke=\"black\" points=\"323,-316.25 319.5,-306.25 316,-316.25 323,-316.25\"/>\n</g>\n</g>\n</svg>\n",
      "text/plain": [
       "<graphviz.dot.Digraph at 0x7ffac2642400>"
      ]
     },
     "metadata": {},
     "execution_count": 37
    }
   ],
   "metadata": {}
  },
  {
   "cell_type": "markdown",
   "source": [
    "### The backward pass"
   ],
   "metadata": {}
  },
  {
   "cell_type": "code",
   "execution_count": 38,
   "source": [
    "loss.backward()  # too convenient to be real!"
   ],
   "outputs": [],
   "metadata": {}
  },
  {
   "cell_type": "markdown",
   "source": [
    "Print out the derivatives of the loss with respect to the variables"
   ],
   "metadata": {}
  },
  {
   "cell_type": "code",
   "execution_count": 39,
   "source": [
    "ic(x.grad, W1.grad, b1.grad, W2.grad, b2.grad, z3.grad)"
   ],
   "outputs": [
    {
     "output_type": "stream",
     "name": "stderr",
     "text": [
      "ic| x.grad: tensor([[ 1.1268],\n",
      "                    [-1.5939]])\n",
      "    W1.grad: tensor([[ 0.9897, -0.3338],\n",
      "                     [ 1.4131, -0.4766]])\n",
      "    b1.grad: tensor([[-0.7973],\n",
      "                     [-1.1385]])\n",
      "    W2.grad: tensor([[-0.2947, -0.0174],\n",
      "                     [-2.3570, -0.1388]])\n",
      "    b2.grad: tensor([[-0.2636],\n",
      "                     [-2.1081]])\n",
      "    z3.grad: tensor([[-0.2636],\n",
      "                     [-2.1081]])\n"
     ]
    },
    {
     "output_type": "execute_result",
     "data": {
      "text/plain": [
       "(tensor([[ 1.1268],\n",
       "         [-1.5939]]),\n",
       " tensor([[ 0.9897, -0.3338],\n",
       "         [ 1.4131, -0.4766]]),\n",
       " tensor([[-0.7973],\n",
       "         [-1.1385]]),\n",
       " tensor([[-0.2947, -0.0174],\n",
       "         [-2.3570, -0.1388]]),\n",
       " tensor([[-0.2636],\n",
       "         [-2.1081]]),\n",
       " tensor([[-0.2636],\n",
       "         [-2.1081]]))"
      ]
     },
     "metadata": {},
     "execution_count": 39
    }
   ],
   "metadata": {}
  },
  {
   "cell_type": "code",
   "execution_count": 84,
   "source": [
    "2*(z3-y)/2"
   ],
   "outputs": [
    {
     "output_type": "execute_result",
     "data": {
      "text/plain": [
       "tensor([[-0.2636],\n",
       "        [-2.1081]], grad_fn=<DivBackward0>)"
      ]
     },
     "metadata": {},
     "execution_count": 84
    }
   ],
   "metadata": {}
  },
  {
   "cell_type": "markdown",
   "source": [
    "## Understanding Backprop through ReLU"
   ],
   "metadata": {}
  },
  {
   "cell_type": "markdown",
   "source": [
    "<img src=\"figures/reluBackprop.png\"></img>\n",
    "Figure from [datahacker.rs](http://datahacker.rs/009-pytorch-how-to-apply-backpropagation-with-vectors-and-tensors/)"
   ],
   "metadata": {}
  },
  {
   "cell_type": "code",
   "execution_count": 87,
   "source": [
    "x = torch.tensor([1.,-2.,3.,-1.], requires_grad=True)\n",
    "ic(x)\n",
    "y = torch.relu(x)\n",
    "ic(y)\n",
    "dL_over_dy = torch.tensor([4,-1,5,9])\n",
    "y.backward(dL_over_dy)\n",
    "ic(x.grad)"
   ],
   "outputs": [
    {
     "output_type": "stream",
     "name": "stderr",
     "text": [
      "ic| x: tensor([ 1., -2.,  3., -1.], requires_grad=True)\n",
      "ic| y: tensor([1., 0., 3., 0.], grad_fn=<ReluBackward0>)\n",
      "ic| x.grad: tensor([4., 0., 5., 0.])\n"
     ]
    },
    {
     "output_type": "execute_result",
     "data": {
      "text/plain": [
       "tensor([4., 0., 5., 0.])"
      ]
     },
     "metadata": {},
     "execution_count": 87
    }
   ],
   "metadata": {}
  },
  {
   "cell_type": "code",
   "execution_count": null,
   "source": [],
   "outputs": [],
   "metadata": {}
  }
 ],
 "metadata": {
  "orig_nbformat": 4,
  "language_info": {
   "name": "python",
   "version": "3.9.7",
   "mimetype": "text/x-python",
   "codemirror_mode": {
    "name": "ipython",
    "version": 3
   },
   "pygments_lexer": "ipython3",
   "nbconvert_exporter": "python",
   "file_extension": ".py"
  },
  "kernelspec": {
   "name": "python3",
   "display_name": "Python 3.9.7 64-bit ('privsecai': conda)"
  },
  "interpreter": {
   "hash": "9a6a5787b9bb005a7f5e8899bec1bce39ba8d948a4a7b9b2f0130e20a30245b7"
  }
 },
 "nbformat": 4,
 "nbformat_minor": 2
}